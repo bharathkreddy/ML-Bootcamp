{
 "cells": [
  {
   "cell_type": "markdown",
   "metadata": {},
   "source": [
    "# MISSING VALUES PRACTICE DATASETS"
   ]
  },
  {
   "cell_type": "markdown",
   "metadata": {},
   "source": [
    "***\n",
    "Steps to follow for each of the datasets\n",
    "1. Read the dataset\n",
    "2. EDA\n",
    "    1. Perform Uni-variate analysis by drawing histogram and boxplots for each of the variables.\n",
    "    2. Bi-variate analysis by -\n",
    "        a. Drawing pair-plot for the dataset.\n",
    "        b. Correlation plot for the dataset.\n",
    "        c. Check distribution of variables w.r.t. predicted values.\n",
    "3. Identify features with missing values.\n",
    "4. Use all strategies discussed here to fill up missing values.\n",
    "5. Check the impact of each strategy by using the function I used in this notebook.\n",
    "\n",
    "***"
   ]
  },
  {
   "cell_type": "markdown",
   "metadata": {},
   "source": [
    "## Data set 1 : [Pima Indians Diabetes Database](https://github.com/bharathkreddy/ML-Bootcamp/blob/master/data/pima-indians-diabetes.data.csv)\n",
    "\n",
    "1. Title: Pima Indians Diabetes Database\n",
    "\n",
    "2. Number of Instances: 768\n",
    "\n",
    "3. Number of Attributes: 8 plus class \n",
    "\n",
    "5. Missing Attribute Values: Yes\n",
    "\n",
    "6. Class Distribution: (class value 1 is interpreted as \"tested positive for\n",
    "   diabetes\")\n",
    "\n",
    "<table>\n",
    "  <tr>\n",
    "    <th>Class Value</th>\n",
    "    <th>Number of instance</th>\n",
    "  </tr>\n",
    "  <tr>\n",
    "    <td>0</td>\n",
    "    <td>500</td>\n",
    "    \n",
    "  </tr>\n",
    "  <tr>\n",
    "    <td>1</td>\n",
    "    <td>268</td>\n",
    "   \n",
    "  </tr>\n",
    "</table> \n",
    "\n",
    "NOTE : Table headers are missing in the dataset, you can use these: [more infomation about dataset here](https://github.com/bharathkreddy/ML-Bootcamp/blob/master/data/pima-indians-diabetes.names)\n",
    "   1. Pregnant : Number of times pregnant\n",
    "   2. Glucose : Plasma glucose concentration a 2 hours in an oral glucose tolerance test\n",
    "   3. BP : Diastolic blood pressure (mm Hg)\n",
    "   4. Skin : Triceps skin fold thickness (mm)\n",
    "   5. Insulin : 2-Hour serum insulin (mu U/ml)\n",
    "   6. BMI : Body mass index (weight in kg/(height in m)^2)\n",
    "   7. DPF : Diabetes pedigree function\n",
    "   8. Age : Age (years)\n",
    "   9. Diabetes : Class variable (0 No or 1 YES)\n",
    "   \n",
    "HISTORY : Pima Indians are native american tibes, known to have very high incidence of Diabetes in females of the tribe. As a part of research to understand the causes of this high incidence of Diabetes, this data was collected.\n"
   ]
  },
  {
   "cell_type": "markdown",
   "metadata": {},
   "source": [
    "***\n",
    "\n",
    "\n",
    "# READING\n",
    "\n",
    "[ARTICLE 1](https://www.kaggle.com/parulpandey/a-guide-to-handling-missing-values-in-python)\n",
    "\n",
    "[ARTICLE 2](https://towardsdatascience.com/how-to-handle-missing-data-8646b18db0d4)\n",
    "\n",
    "Before you proceed - here is an interesting article I want you guys to read. This gives a very good intution around what is [missing in random and completely random missing values.](https://www.ncbi.nlm.nih.gov/pmc/articles/PMC4121561/)\n",
    "\n",
    "[VIDEO : Why should we deal with missing data](https://campus.datacamp.com/courses/dealing-with-missing-data-in-python/the-problem-with-missing-data?ex=1)\n",
    "\n",
    "***"
   ]
  },
  {
   "cell_type": "markdown",
   "metadata": {},
   "source": [
    "***\n",
    "\n",
    "\n",
    "# [DATASET 2 : TITANIC ](https://github.com/bharathkreddy/ML-Bootcamp/blob/master/data/titanic_toy.csv)\n",
    "\n",
    "The sinking of the Titanic is one of the most infamous shipwrecks in history.\n",
    "\n",
    "On April 15, 1912, during her maiden voyage, the widely considered “unsinkable” RMS Titanic sank after colliding with an iceberg. Unfortunately, there weren’t enough lifeboats for everyone onboard, resulting in the death of 1502 out of 2224 passengers and crew.\n",
    "\n",
    "While there was some element of luck involved in surviving, it seems some groups of people were more likely to survive than others.\n",
    "\n",
    "In this challenge, we ask you to build a predictive model that answers the question: “what sorts of people were more likely to survive?” using passenger data (ie name, age, gender, socio-economic class, etc). \n",
    "\n",
    "But before you get to finding patterns for your model - you need to be able to work with missing values. Have fun!\n",
    "\n",
    "Since this is a very famous data-set, a lot of people have worked on it before. You can [find some inspiration here](https://www.kaggle.com/c/titanic/notebooks)\n",
    "\n",
    "***"
   ]
  },
  {
   "cell_type": "markdown",
   "metadata": {},
   "source": [
    "***\n",
    "\n",
    "\n",
    "# [DATASET 3 : AMES HOUSING ](https://www.kaggle.com/c/house-prices-advanced-regression-techniques/overview)\n",
    "\n",
    "The Ames Housing dataset was compiled by Dean De Cock for use in data science education. It's an incredible alternative for data scientists looking for a modernized and expanded version of the often cited Boston Housing dataset. \n",
    "\n",
    "This is also a very famous challange which was solved using Linear Regression. So you can practice both Linear Regression and Missing values on this dataset. You can [find some inspiration here](https://www.kaggle.com/c/house-prices-advanced-regression-techniques/notebooks) Look out for notebook which talk about missing value handling.\n",
    "***"
   ]
  },
  {
   "cell_type": "markdown",
   "metadata": {},
   "source": [
    "***\n",
    "\n",
    "\n",
    "# [DATASET 4 : BOSTON HOUSING ](https://github.com/bharathkreddy/ML-Bootcamp/blob/master/data/housing.csv)\n",
    "\n",
    "Domain: Real Estate - house prices around Boston suburbs.\n",
    "\n",
    "Difficulty: Easy to Medium\n",
    "\n",
    "Challenges:\n",
    "\n",
    "    Missing value treatment\n",
    "    Outlier treatment\n",
    "    Understanding which variables drive the price of homes in Boston\n",
    "\n",
    "NOTE:\n",
    "Dataset has missing headers, [copy these from here](https://github.com/bharathkreddy/ML-Bootcamp/blob/master/data/housing.names)***\n",
    "\n",
    "HELP:\n",
    "[Here is the kaggle repositary](https://www.kaggle.com/altavish/boston-housing-dataset/notebooks) of notebooks of all attempts that have been made on this dataset. \n"
   ]
  },
  {
   "cell_type": "code",
   "execution_count": null,
   "metadata": {},
   "outputs": [],
   "source": []
  }
 ],
 "metadata": {
  "kernelspec": {
   "display_name": "Python 3",
   "language": "python",
   "name": "python3"
  },
  "language_info": {
   "codemirror_mode": {
    "name": "ipython",
    "version": 3
   },
   "file_extension": ".py",
   "mimetype": "text/x-python",
   "name": "python",
   "nbconvert_exporter": "python",
   "pygments_lexer": "ipython3",
   "version": "3.8.3"
  }
 },
 "nbformat": 4,
 "nbformat_minor": 4
}
